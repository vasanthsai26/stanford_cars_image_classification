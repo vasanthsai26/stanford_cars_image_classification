{
  "cells": [
    {
      "cell_type": "code",
      "execution_count": null,
      "metadata": {
        "id": "Zu-2bDY4QlcB"
      },
      "outputs": [],
      "source": [
        "# This Python 3 environment comes with many helpful analytics libraries installed\n",
        "# It is defined by the kaggle/python Docker image: https://github.com/kaggle/docker-python\n",
        "# For example, here's several helpful packages to load\n",
        "\n",
        "# import numpy as np # linear algebra\n",
        "# import pandas as pd # data processing, CSV file I/O (e.g. pd.read_csv)\n",
        "\n",
        "# Input data files are available in the read-only \"../input/\" directory\n",
        "# For example, running this (by clicking run or pressing Shift+Enter) will list all files under the input directory\n",
        "\n",
        "# You can write up to 20GB to the current directory (/kaggle/working/) that gets preserved as output when you create a version using \"Save & Run All\"\n",
        "# You can also write temporary files to /kaggle/temp/, but they won't be saved outside of the current session"
      ]
    },
    {
      "cell_type": "code",
      "execution_count": null,
      "metadata": {
        "colab": {
          "base_uri": "https://localhost:8080/"
        },
        "id": "EEk_qTz9QlcF",
        "outputId": "bbbd779d-be2d-42c0-d5f2-9b428dd46d90"
      },
      "outputs": [
        {
          "name": "stdout",
          "output_type": "stream",
          "text": [
            "\u001b[2K     \u001b[90m━━━━━━━━━━━━━━━━━━━━━━━━━━━━━━━━━━━━━━━━\u001b[0m \u001b[32m2.1/2.1 MB\u001b[0m \u001b[31m40.1 MB/s\u001b[0m eta \u001b[36m0:00:00\u001b[0m\n",
            "\u001b[2K     \u001b[90m━━━━━━━━━━━━━━━━━━━━━━━━━━━━━━━━━━━━━━━━\u001b[0m \u001b[32m7.2/7.2 MB\u001b[0m \u001b[31m93.5 MB/s\u001b[0m eta \u001b[36m0:00:00\u001b[0m\n",
            "\u001b[2K     \u001b[90m━━━━━━━━━━━━━━━━━━━━━━━━━━━━━━━━━━━━━━\u001b[0m \u001b[32m184.3/184.3 kB\u001b[0m \u001b[31m18.6 MB/s\u001b[0m eta \u001b[36m0:00:00\u001b[0m\n",
            "\u001b[2K     \u001b[90m━━━━━━━━━━━━━━━━━━━━━━━━━━━━━━━━━━━━━━\u001b[0m \u001b[32m209.4/209.4 kB\u001b[0m \u001b[31m18.9 MB/s\u001b[0m eta \u001b[36m0:00:00\u001b[0m\n",
            "\u001b[?25h  Preparing metadata (setup.py) ... \u001b[?25l\u001b[?25hdone\n",
            "\u001b[2K     \u001b[90m━━━━━━━━━━━━━━━━━━━━━━━━━━━━━━━━━━━━━━\u001b[0m \u001b[32m236.8/236.8 kB\u001b[0m \u001b[31m24.3 MB/s\u001b[0m eta \u001b[36m0:00:00\u001b[0m\n",
            "\u001b[2K     \u001b[90m━━━━━━━━━━━━━━━━━━━━━━━━━━━━━━━━━━━━━━━━\u001b[0m \u001b[32m7.8/7.8 MB\u001b[0m \u001b[31m106.9 MB/s\u001b[0m eta \u001b[36m0:00:00\u001b[0m\n",
            "\u001b[2K     \u001b[90m━━━━━━━━━━━━━━━━━━━━━━━━━━━━━━━━━━━━━━━━\u001b[0m \u001b[32m1.3/1.3 MB\u001b[0m \u001b[31m72.7 MB/s\u001b[0m eta \u001b[36m0:00:00\u001b[0m\n",
            "\u001b[2K     \u001b[90m━━━━━━━━━━━━━━━━━━━━━━━━━━━━━━━━━━━━━━━━\u001b[0m \u001b[32m62.7/62.7 kB\u001b[0m \u001b[31m8.7 MB/s\u001b[0m eta \u001b[36m0:00:00\u001b[0m\n",
            "\u001b[?25h  Building wheel for pathtools (setup.py) ... \u001b[?25l\u001b[?25hdone\n"
          ]
        }
      ],
      "source": [
        "!pip install torchinfo opendatasets wandb munch transformers --upgrade --quiet"
      ]
    },
    {
      "cell_type": "code",
      "execution_count": null,
      "metadata": {
        "id": "Gv43kwvzQlcH"
      },
      "outputs": [],
      "source": [
        "import random\n",
        "import cv2\n",
        "import numpy as np\n",
        "import pandas as pd\n",
        "import os\n",
        "import time\n",
        "import copy\n",
        "import opendatasets as od\n",
        "import torch\n",
        "import torch.nn as nn\n",
        "\n",
        "from PIL import Image\n",
        "from transformers import ViTModel, ViTConfig\n",
        "from torchvision import transforms\n",
        "from torch import optim\n",
        "from torch.utils.data import Dataset,DataLoader\n",
        "from tqdm import tqdm\n",
        "from scipy.io import loadmat\n",
        "from pathlib import Path\n",
        "from sklearn.model_selection import train_test_split\n",
        "from sklearn.metrics import accuracy_score,precision_score,recall_score\n",
        "from collections import OrderedDict\n",
        "import warnings\n",
        "warnings.filterwarnings('ignore')\n",
        "# model_checkpoint = 'google/vit-base-patch16-224-in21k'"
      ]
    },
    {
      "cell_type": "code",
      "execution_count": null,
      "metadata": {
        "id": "UWqt9OHkQlcI"
      },
      "outputs": [],
      "source": [
        "NUMWORKERS = os.cpu_count()\n",
        "IMAGE_CHANNELS = 3\n",
        "NUM_CLASSES = 196\n",
        "IMAGENET_MEAN = [0.485, 0.456, 0.406]\n",
        "IMAGENET_STD = [0.229, 0.224, 0.225]\n",
        "SCALE = 1.1\n",
        "BATCHSIZE=16\n",
        "\n",
        "#DIR CONFIGS\n",
        "DATA_PATH = Path('/content/stanford-cars-dataset')\n",
        "META_PATH = Path(os.path.join(DATA_PATH,\"car_devkit\",\"devkit\"))\n",
        "CARS_TRAIN_PATH = Path(os.path.join(DATA_PATH,\"cars_train\",\"cars_train\"))\n",
        "CARS_TEST_PATH = Path(os.path.join(DATA_PATH,\"cars_test\",\"cars_test\"))\n",
        "\n",
        "# PRETRAINED = 'google/vit-large-patch16-224-in21k'\n",
        "# HIDDEN_STATE = 1024\n",
        "# IMG_SIZE = 224\n",
        "# PRETRAINED = 'google/vit-base-patch16-224'\n",
        "# HIDDEN_STATE =  768\n",
        "IMG_SIZE = 384\n",
        "PRETRAINED = 'google/vit-base-patch16-384'\n",
        "HIDDEN_STATE =  768"
      ]
    },
    {
      "cell_type": "code",
      "execution_count": null,
      "metadata": {
        "id": "icREH9_OQlcJ"
      },
      "outputs": [],
      "source": [
        "def set_seeds(TORCH_SEED: int) -> None:\n",
        "    \"\"\"\n",
        "    Sets the manual SEED\n",
        "    \"\"\"\n",
        "    random.seed(TORCH_SEED)\n",
        "    np.random.seed(TORCH_SEED)\n",
        "    torch.manual_seed(TORCH_SEED)\n",
        "    torch.cuda.manual_seed_all(TORCH_SEED)\n",
        "    os.environ['PYTHONHASHSEED'] = str(TORCH_SEED)\n",
        "    torch.backends.cudnn.deterministic = True\n",
        "    torch.backends.cudnn.benchmark = False\n",
        "\n",
        "def get_device() -> str:\n",
        "    \"\"\"\n",
        "    Returns the default device available\n",
        "    \"\"\"\n",
        "    return \"cuda\" if torch.cuda.is_available() else \"cpu\"\n",
        "\n",
        "def denormalize(images, means=IMAGENET_MEAN, stds=IMAGENET_STD,device=get_device()):\n",
        "    \"\"\"\n",
        "    Returns the denormalized image.\n",
        "    \"\"\"\n",
        "    means = torch.tensor(means).reshape(1, 3, 1, 1).to(device)\n",
        "    stds = torch.tensor(stds).reshape(1, 3, 1, 1).to(device)\n",
        "    return (images * stds + means)"
      ]
    },
    {
      "cell_type": "code",
      "execution_count": null,
      "metadata": {
        "colab": {
          "base_uri": "https://localhost:8080/"
        },
        "id": "q6HBQo2gRiZU",
        "outputId": "8aeb8266-a103-4a73-da22-47963d8a1b9a"
      },
      "outputs": [
        {
          "name": "stdout",
          "output_type": "stream",
          "text": [
            "Downloading stanford-cars-dataset.zip to ./stanford-cars-dataset\n"
          ]
        },
        {
          "name": "stderr",
          "output_type": "stream",
          "text": [
            "100%|██████████| 1.82G/1.82G [00:23<00:00, 84.2MB/s]\n"
          ]
        },
        {
          "name": "stdout",
          "output_type": "stream",
          "text": [
            "\n"
          ]
        }
      ],
      "source": [
        "import opendatasets as od\n",
        "od.download(\"https://www.kaggle.com/datasets/eduardo4jesus/stanford-cars-dataset\")"
      ]
    },
    {
      "cell_type": "markdown",
      "metadata": {
        "id": "dVDapeiVQlcJ"
      },
      "source": [
        "Data"
      ]
    },
    {
      "cell_type": "markdown",
      "metadata": {
        "id": "vkHU5GQMQlcL"
      },
      "source": [
        "The data is analyzed in this notebook"
      ]
    },
    {
      "cell_type": "code",
      "execution_count": null,
      "metadata": {
        "id": "3ypmN-gZQlcL"
      },
      "outputs": [],
      "source": [
        "class DefaultDataset(Dataset):\n",
        "    def __init__(self, data_df,\n",
        "                 transform = None,\n",
        "                 is_test: bool = False):\n",
        "        self.data_df = data_df\n",
        "        self.is_test = is_test\n",
        "        self.transform = transform\n",
        "\n",
        "    def __len__(self):\n",
        "        return len(self.data_df)\n",
        "\n",
        "    def __getitem__(self, idx):\n",
        "        # Get image details\n",
        "        img_details = self.data_df.iloc[idx]\n",
        "\n",
        "        img_path = img_details[\"file_path\"]\n",
        "        # image = cv2.imread(img_path)\n",
        "        # img = cv2.cvtColor(image, cv2.COLOR_BGR2RGB)\n",
        "        image = Image.open(img_path)\n",
        "        img = image.convert(\"RGB\")\n",
        "\n",
        "        if self.transform:\n",
        "            img = self.transform(img).to(torch.float)\n",
        "        else:\n",
        "            transform = transforms.ToTensor()\n",
        "            img = transform(img).to(torch.float)\n",
        "\n",
        "        if self.is_test:\n",
        "            return img\n",
        "        else:\n",
        "            class_label = torch.tensor(img_details[\"class_idx\"], dtype=torch.long)\n",
        "            return (img, class_label)\n",
        "\n",
        "def get_transforms(type):\n",
        "    if type == 'train':\n",
        "        train_transform = transforms.Compose([\n",
        "            transforms.Resize((int(IMG_SIZE * SCALE),\n",
        "                               int(IMG_SIZE * SCALE))),\n",
        "            transforms.RandomResizedCrop(IMG_SIZE),\n",
        "            transforms.RandomGrayscale(p=0.2),\n",
        "            transforms.ToTensor(),\n",
        "            transforms.Normalize(mean=IMAGENET_MEAN,\n",
        "                                 std=IMAGENET_STD)\n",
        "        ])\n",
        "        return train_transform\n",
        "\n",
        "    elif type == 'test':\n",
        "        val_test_transform = transforms.Compose([\n",
        "            transforms.Resize(int(IMG_SIZE * SCALE)),\n",
        "            transforms.CenterCrop(IMG_SIZE),\n",
        "            transforms.ToTensor(),\n",
        "            transforms.Normalize(mean=IMAGENET_MEAN,\n",
        "                                 std=IMAGENET_STD)\n",
        "        ])\n",
        "        return val_test_transform\n",
        "\n",
        "def create_train_df(labels):\n",
        "    cars_train_annos = loadmat(Path(META_PATH) / 'cars_train_annos.mat')\n",
        "    train_data = [[val.flat[0] for val in line] for line in cars_train_annos[\"annotations\"][0]]\n",
        "    columns = [\"bbox_x1\", \"bbox_y1\", \"bbox_x2\", \"bbox_y2\", \"class_idx\", \"fname\"]\n",
        "    train_df = pd.DataFrame(train_data, columns=columns)\n",
        "    train_df[\"class_idx\"] = train_df[\"class_idx\"] - 1\n",
        "    train_df = train_df.merge(labels, left_on='class_idx', right_index=True)\n",
        "    func = lambda x: os.path.join(CARS_TRAIN_PATH, x)\n",
        "    train_df[\"file_path\"] = train_df[\"fname\"].apply(func)\n",
        "    return train_df\n",
        "\n",
        "def create_test_df():\n",
        "    cars_test_annos = loadmat(Path(META_PATH) / 'cars_test_annos.mat')\n",
        "    test_data = [[val.flat[0] for val in line] for line in cars_test_annos[\"annotations\"][0]]\n",
        "    columns = [\"bbox_x1\", \"bbox_y1\", \"bbox_x2\", \"bbox_y2\", \"fname\"]\n",
        "    test_df = pd.DataFrame(test_data, columns=columns)\n",
        "    func = lambda x: os.path.join(CARS_TEST_PATH, x)\n",
        "    test_df[\"file_path\"] = test_df[\"fname\"].apply(func)\n",
        "    return test_df\n",
        "\n",
        "def create_labels():\n",
        "    cars_meta = loadmat(Path(META_PATH) / 'cars_meta.mat')\n",
        "    labels = [car for car in cars_meta[\"class_names\"][0]]\n",
        "    labels = pd.DataFrame(labels, columns=[\"class_labels\"])\n",
        "    labels['class_labels'] = labels['class_labels'].str.replace(' ', '_')\n",
        "    return labels\n",
        "\n",
        "def get_data():\n",
        "    labels = create_labels()\n",
        "    train_df = create_train_df(labels)\n",
        "    test_df = create_test_df()\n",
        "    train_df, val_df = train_test_split(\n",
        "        train_df,\n",
        "        train_size=0.8,\n",
        "        random_state=42,\n",
        "        stratify=train_df[\"class_idx\"]\n",
        "    )\n",
        "    return train_df, val_df, test_df\n",
        "\n",
        "def create_dataloaders(train_df: pd.DataFrame,\n",
        "                       val_df: pd.DataFrame,\n",
        "                       test_df: pd.DataFrame):\n",
        "    train_transform = get_transforms(\"train\")\n",
        "    val_test_transform = get_transforms(\"test\")\n",
        "\n",
        "    # Create the training, validation, and test datasets using the appropriate transforms\n",
        "    train_dataset = DefaultDataset(data_df=train_df, transform=train_transform, is_test=False)\n",
        "    val_dataset = DefaultDataset(data_df=val_df, transform=val_test_transform, is_test=False)\n",
        "    test_dataset = DefaultDataset(data_df=test_df, transform=val_test_transform, is_test=True)\n",
        "\n",
        "    # Create the training, validation, and test dataloaders using the appropriate datasets and batch size\n",
        "    train_dataloader = DataLoader(\n",
        "        train_dataset,\n",
        "        batch_size=BATCHSIZE,\n",
        "        shuffle=True,\n",
        "        num_workers=NUMWORKERS,\n",
        "        pin_memory=True\n",
        "    )\n",
        "\n",
        "    val_dataloader = DataLoader(\n",
        "        val_dataset,\n",
        "        batch_size=BATCHSIZE,\n",
        "        shuffle=False,  # Do not shuffle the data\n",
        "        num_workers=NUMWORKERS,\n",
        "        pin_memory=True\n",
        "    )\n",
        "\n",
        "    test_dataloader = DataLoader(\n",
        "        test_dataset,\n",
        "        batch_size=BATCHSIZE * 2,\n",
        "        shuffle=False,  # Do not shuffle the data\n",
        "        num_workers=NUMWORKERS,\n",
        "        pin_memory=True\n",
        "    )\n",
        "\n",
        "    return train_dataloader, val_dataloader, test_dataloader"
      ]
    },
    {
      "cell_type": "code",
      "execution_count": null,
      "metadata": {
        "id": "vDynWdtgQlcN"
      },
      "outputs": [],
      "source": [
        "train_df, val_df, test_df = get_data()\n",
        "train_dataloader, val_dataloader, test_dataloader = create_dataloaders(train_df, val_df, test_df)"
      ]
    },
    {
      "cell_type": "markdown",
      "metadata": {
        "id": "aE2yY9xCQlcN"
      },
      "source": [
        "Model"
      ]
    },
    {
      "cell_type": "code",
      "execution_count": null,
      "metadata": {
        "id": "KiRFwMsmQlcO"
      },
      "outputs": [],
      "source": [
        "class ViT(nn.Module):\n",
        "    def __init__(self, config=ViTConfig(),\n",
        "               num_classes=NUM_CLASSES,\n",
        "               model_checkpoint=PRETRAINED):\n",
        "\n",
        "        super(ViT, self).__init__()\n",
        "\n",
        "        self.vit = ViTModel.from_pretrained(model_checkpoint, add_pooling_layer=False)\n",
        "#         for param in self.vit.parameters():\n",
        "#             param.requires_grad = False\n",
        "        self.classifier =  nn.Sequential(\n",
        "            nn.Linear(HIDDEN_STATE, out_features=num_classes))\n",
        "#             nn.ReLU(inplace=True),\n",
        "#             nn.Dropout(p=0.1),\n",
        "#             nn.Linear(in_features=512, out_features=num_classes)\n",
        "#         )\n",
        "\n",
        "        self.initialize_weights()\n",
        "\n",
        "    def forward(self, x):\n",
        "        x = self.vit(x)['last_hidden_state']\n",
        "        # Use the embedding of [CLS] token\n",
        "        output = self.classifier(x[:, 0, :])\n",
        "        return output\n",
        "\n",
        "    def initialize_weights(self):\n",
        "        # Initialize the classifier weights using Xavier uniform distribution\n",
        "        for module in self.classifier.modules():\n",
        "            if isinstance(module, nn.Linear):\n",
        "                nn.init.xavier_uniform_(module.weight)\n",
        "                if module.bias is not None:\n",
        "                    nn.init.constant_(module.bias, 0)"
      ]
    },
    {
      "cell_type": "code",
      "execution_count": null,
      "metadata": {
        "colab": {
          "base_uri": "https://localhost:8080/",
          "height": 155,
          "referenced_widgets": [
            "d7ae93643e2e4585a1bf3c24629cba30",
            "36545df174f244358e8c0f69fd633b98",
            "eac0ad052ab2443eb1ca1c74aafa84f9",
            "a595fc1915ad4b0f83826399fc9e4d23",
            "5c8ec623c843439d844e8116c88e15ec",
            "4a895608365842eb8fee6ccc09c48d07",
            "149b307917dd4070b885942c1de87662",
            "0dc9f9fa8b0c41d88bd38286ce353514",
            "851c7469fbc64933aead0e8de49dcc65",
            "a4c00697c77c49e6af25e9e6ebfadae3",
            "ac668078fd524c67bd658166e1ba0ee0",
            "8933f54729f54330a53a50559c1a7018",
            "aed6fef7370342d2abee595266de43cc",
            "f099e2ea174149fea49af71ea5774c18",
            "930fd05f06ae4551a48f6485fa712d46",
            "cbce584d2e2341ffaee242aee091d0f1",
            "f984a1f6330d49218a893f1969d9b99f",
            "a3df302ed84142e0bc249b5b17fda980",
            "f742c6d477724733ac9c406e030ad68d",
            "4a8d3fc482c740e8925dd06c42fa132f",
            "a8be91ed21484699a7d5edd6f943710c",
            "e80f33dde8a4492397f61da4c4bff476"
          ]
        },
        "id": "FyZg8hRkQlcO",
        "outputId": "ad768f7f-ce5a-43dd-b154-343f35da3c8d"
      },
      "outputs": [
        {
          "data": {
            "application/vnd.jupyter.widget-view+json": {
              "model_id": "d7ae93643e2e4585a1bf3c24629cba30",
              "version_major": 2,
              "version_minor": 0
            },
            "text/plain": [
              "Downloading (…)lve/main/config.json: 0.00B [00:00, ?B/s]"
            ]
          },
          "metadata": {},
          "output_type": "display_data"
        },
        {
          "data": {
            "application/vnd.jupyter.widget-view+json": {
              "model_id": "8933f54729f54330a53a50559c1a7018",
              "version_major": 2,
              "version_minor": 0
            },
            "text/plain": [
              "Downloading pytorch_model.bin:   0%|          | 0.00/348M [00:00<?, ?B/s]"
            ]
          },
          "metadata": {},
          "output_type": "display_data"
        },
        {
          "name": "stderr",
          "output_type": "stream",
          "text": [
            "Some weights of the model checkpoint at google/vit-base-patch16-384 were not used when initializing ViTModel: ['classifier.bias', 'classifier.weight']\n",
            "- This IS expected if you are initializing ViTModel from the checkpoint of a model trained on another task or with another architecture (e.g. initializing a BertForSequenceClassification model from a BertForPreTraining model).\n",
            "- This IS NOT expected if you are initializing ViTModel from the checkpoint of a model that you expect to be exactly identical (initializing a BertForSequenceClassification model from a BertForSequenceClassification model).\n"
          ]
        }
      ],
      "source": [
        "model= ViT()"
      ]
    },
    {
      "cell_type": "code",
      "execution_count": null,
      "metadata": {
        "colab": {
          "base_uri": "https://localhost:8080/"
        },
        "id": "-9dhNAmLQlcP",
        "outputId": "8adefc4f-eb50-4f39-ffff-a266ce5a6f05"
      },
      "outputs": [
        {
          "data": {
            "text/plain": [
              "==================================================================================================================================\n",
              "Layer (type (var_name))                                                Input Shape     Output Shape    Param #         Trainable\n",
              "==================================================================================================================================\n",
              "ViT (ViT)                                                              [16, 3, 384, 384] [16, 196]       --              True\n",
              "├─ViTModel (vit)                                                       [16, 3, 384, 384] [16, 577, 768]  --              True\n",
              "│    └─ViTEmbeddings (embeddings)                                      [16, 3, 384, 384] [16, 577, 768]  443,904         True\n",
              "│    │    └─ViTPatchEmbeddings (patch_embeddings)                      [16, 3, 384, 384] [16, 576, 768]  590,592         True\n",
              "│    │    └─Dropout (dropout)                                          [16, 577, 768]  [16, 577, 768]  --              --\n",
              "│    └─ViTEncoder (encoder)                                            [16, 577, 768]  [16, 577, 768]  --              True\n",
              "│    │    └─ModuleList (layer)                                         --              --              85,054,464      True\n",
              "│    └─LayerNorm (layernorm)                                           [16, 577, 768]  [16, 577, 768]  1,536           True\n",
              "├─Sequential (classifier)                                              [16, 768]       [16, 196]       --              True\n",
              "│    └─Linear (0)                                                      [16, 768]       [16, 196]       150,724         True\n",
              "==================================================================================================================================\n",
              "Total params: 86,241,220\n",
              "Trainable params: 86,241,220\n",
              "Non-trainable params: 0\n",
              "Total mult-adds (G): 6.81\n",
              "==================================================================================================================================\n",
              "Input size (MB): 28.31\n",
              "Forward/backward pass size (MB): 7600.60\n",
              "Params size (MB): 343.19\n",
              "Estimated Total Size (MB): 7972.10\n",
              "=================================================================================================================================="
            ]
          },
          "execution_count": 11,
          "metadata": {},
          "output_type": "execute_result"
        }
      ],
      "source": [
        "from torchinfo import summary\n",
        "\n",
        "summary(model,\n",
        "        input_size=(16, 3, IMG_SIZE, IMG_SIZE),\n",
        "        col_names=[\"input_size\", \"output_size\", \"num_params\", \"trainable\"],\n",
        "        col_width=15,\n",
        "        row_settings=[\"var_names\"])"
      ]
    },
    {
      "cell_type": "markdown",
      "metadata": {
        "id": "m5mkJ_dQQlcP"
      },
      "source": [
        "Model Performance before training"
      ]
    },
    {
      "cell_type": "code",
      "execution_count": null,
      "metadata": {
        "id": "kMF7HynMQlcP"
      },
      "outputs": [],
      "source": [
        "def evaluate_batch(y_true, y_pred):\n",
        "    y_true = y_true.cpu().numpy()\n",
        "    y_pred = y_pred.cpu().numpy()\n",
        "\n",
        "    accuracy = accuracy_score(y_true, y_pred)\n",
        "    precision = precision_score(y_true, y_pred, average='macro')\n",
        "    recall = recall_score(y_true, y_pred, average='macro')\n",
        "    return accuracy, precision, recall"
      ]
    },
    {
      "cell_type": "code",
      "execution_count": null,
      "metadata": {
        "id": "-y9SKzhGQlcP"
      },
      "outputs": [],
      "source": [
        "def evaluate(model: torch.nn.Module,\n",
        "              dataloader: torch.utils.data.DataLoader,\n",
        "              criterion: torch.nn.Module):\n",
        "    model.eval()\n",
        "    device = get_device()\n",
        "    test_loss, test_acc, test_precision, test_recall = 0, 0, 0, 0\n",
        "    with torch.inference_mode():\n",
        "        for batch, (X, y) in enumerate(dataloader):\n",
        "            X, y = X.to(device), y.to(device)\n",
        "\n",
        "            test_pred_logits = model(X)\n",
        "\n",
        "            loss = criterion(test_pred_logits, y)\n",
        "            test_loss += loss.item()\n",
        "\n",
        "            #Calculate and accumulate accuracy\n",
        "            test_pred_labels = torch.argmax(torch.softmax(test_pred_logits, dim=1), dim=1)\n",
        "            batch_acc,batch_precision,batch_recall = evaluate_batch(y,test_pred_labels)\n",
        "\n",
        "            test_acc += batch_acc\n",
        "            test_precision += batch_precision\n",
        "            test_recall += batch_recall\n",
        "\n",
        "    # Calculate average metrics per batch\n",
        "    test_loss = test_loss / len(dataloader)\n",
        "    test_acc = test_acc / len(dataloader)\n",
        "    test_precision = test_precision / len(dataloader)\n",
        "    test_recall = test_recall / len(dataloader)\n",
        "\n",
        "    return test_loss, test_acc, test_precision, test_recall"
      ]
    },
    {
      "cell_type": "code",
      "execution_count": null,
      "metadata": {
        "colab": {
          "base_uri": "https://localhost:8080/"
        },
        "id": "rQBDLVIqQlcQ",
        "outputId": "dec72884-ac46-405e-e116-d71f67022abe"
      },
      "outputs": [
        {
          "name": "stdout",
          "output_type": "stream",
          "text": [
            "                         Metrics before training\n",
            " val_loss: 5.9913 | val_acc: 0.0031 | val_f1_score: 0.0017 \n"
          ]
        }
      ],
      "source": [
        "criterion = nn.CrossEntropyLoss()\n",
        "test_loss, test_acc, test_precision, test_recall = evaluate(model,val_dataloader,criterion)\n",
        "\n",
        "test_f1_score = 2 * (test_precision * test_recall) / (test_precision + test_recall)\n",
        "print(f'''                         Metrics before training\n",
        " val_loss: {test_loss:.4f} | val_acc: {test_acc:.4f} | val_f1_score: {test_f1_score:.4f} ''')"
      ]
    },
    {
      "cell_type": "markdown",
      "metadata": {
        "id": "2de0VjUhQlcQ"
      },
      "source": [
        "predict a single image before training"
      ]
    },
    {
      "cell_type": "code",
      "execution_count": null,
      "metadata": {
        "id": "ngWCyOYzQlcQ"
      },
      "outputs": [],
      "source": [
        "labels = create_labels()\n",
        "\n",
        "def predict(img_path,model):\n",
        "    device = get_device()\n",
        "    transform = get_transforms('test')\n",
        "    img = Image.open(img_path)\n",
        "    img = transform(img)\n",
        "    output = model(img.unsqueeze(0).to(device))\n",
        "    prediction = output.argmax(dim=1).item()\n",
        "\n",
        "    return labels.iloc[prediction]"
      ]
    },
    {
      "cell_type": "code",
      "execution_count": null,
      "metadata": {
        "colab": {
          "base_uri": "https://localhost:8080/",
          "height": 142
        },
        "id": "B5nqkNCsQlcQ",
        "outputId": "281880ca-68e0-40d1-eacb-936682bd5310"
      },
      "outputs": [
        {
          "data": {
            "text/html": [
              "\n",
              "  <div id=\"df-9f1eb132-349d-4e76-95c7-84a6a5f42508\">\n",
              "    <div class=\"colab-df-container\">\n",
              "      <div>\n",
              "<style scoped>\n",
              "    .dataframe tbody tr th:only-of-type {\n",
              "        vertical-align: middle;\n",
              "    }\n",
              "\n",
              "    .dataframe tbody tr th {\n",
              "        vertical-align: top;\n",
              "    }\n",
              "\n",
              "    .dataframe thead th {\n",
              "        text-align: right;\n",
              "    }\n",
              "</style>\n",
              "<table border=\"1\" class=\"dataframe\">\n",
              "  <thead>\n",
              "    <tr style=\"text-align: right;\">\n",
              "      <th></th>\n",
              "      <th>bbox_x1</th>\n",
              "      <th>bbox_y1</th>\n",
              "      <th>bbox_x2</th>\n",
              "      <th>bbox_y2</th>\n",
              "      <th>class_idx</th>\n",
              "      <th>fname</th>\n",
              "      <th>class_labels</th>\n",
              "      <th>file_path</th>\n",
              "    </tr>\n",
              "  </thead>\n",
              "  <tbody>\n",
              "    <tr>\n",
              "      <th>871</th>\n",
              "      <td>69</td>\n",
              "      <td>109</td>\n",
              "      <td>461</td>\n",
              "      <td>284</td>\n",
              "      <td>54</td>\n",
              "      <td>00872.jpg</td>\n",
              "      <td>Chevrolet_Corvette_Convertible_2012</td>\n",
              "      <td>/content/stanford-cars-dataset/cars_train/cars...</td>\n",
              "    </tr>\n",
              "  </tbody>\n",
              "</table>\n",
              "</div>\n",
              "      <button class=\"colab-df-convert\" onclick=\"convertToInteractive('df-9f1eb132-349d-4e76-95c7-84a6a5f42508')\"\n",
              "              title=\"Convert this dataframe to an interactive table.\"\n",
              "              style=\"display:none;\">\n",
              "        \n",
              "  <svg xmlns=\"http://www.w3.org/2000/svg\" height=\"24px\"viewBox=\"0 0 24 24\"\n",
              "       width=\"24px\">\n",
              "    <path d=\"M0 0h24v24H0V0z\" fill=\"none\"/>\n",
              "    <path d=\"M18.56 5.44l.94 2.06.94-2.06 2.06-.94-2.06-.94-.94-2.06-.94 2.06-2.06.94zm-11 1L8.5 8.5l.94-2.06 2.06-.94-2.06-.94L8.5 2.5l-.94 2.06-2.06.94zm10 10l.94 2.06.94-2.06 2.06-.94-2.06-.94-.94-2.06-.94 2.06-2.06.94z\"/><path d=\"M17.41 7.96l-1.37-1.37c-.4-.4-.92-.59-1.43-.59-.52 0-1.04.2-1.43.59L10.3 9.45l-7.72 7.72c-.78.78-.78 2.05 0 2.83L4 21.41c.39.39.9.59 1.41.59.51 0 1.02-.2 1.41-.59l7.78-7.78 2.81-2.81c.8-.78.8-2.07 0-2.86zM5.41 20L4 18.59l7.72-7.72 1.47 1.35L5.41 20z\"/>\n",
              "  </svg>\n",
              "      </button>\n",
              "      \n",
              "  <style>\n",
              "    .colab-df-container {\n",
              "      display:flex;\n",
              "      flex-wrap:wrap;\n",
              "      gap: 12px;\n",
              "    }\n",
              "\n",
              "    .colab-df-convert {\n",
              "      background-color: #E8F0FE;\n",
              "      border: none;\n",
              "      border-radius: 50%;\n",
              "      cursor: pointer;\n",
              "      display: none;\n",
              "      fill: #1967D2;\n",
              "      height: 32px;\n",
              "      padding: 0 0 0 0;\n",
              "      width: 32px;\n",
              "    }\n",
              "\n",
              "    .colab-df-convert:hover {\n",
              "      background-color: #E2EBFA;\n",
              "      box-shadow: 0px 1px 2px rgba(60, 64, 67, 0.3), 0px 1px 3px 1px rgba(60, 64, 67, 0.15);\n",
              "      fill: #174EA6;\n",
              "    }\n",
              "\n",
              "    [theme=dark] .colab-df-convert {\n",
              "      background-color: #3B4455;\n",
              "      fill: #D2E3FC;\n",
              "    }\n",
              "\n",
              "    [theme=dark] .colab-df-convert:hover {\n",
              "      background-color: #434B5C;\n",
              "      box-shadow: 0px 1px 3px 1px rgba(0, 0, 0, 0.15);\n",
              "      filter: drop-shadow(0px 1px 2px rgba(0, 0, 0, 0.3));\n",
              "      fill: #FFFFFF;\n",
              "    }\n",
              "  </style>\n",
              "\n",
              "      <script>\n",
              "        const buttonEl =\n",
              "          document.querySelector('#df-9f1eb132-349d-4e76-95c7-84a6a5f42508 button.colab-df-convert');\n",
              "        buttonEl.style.display =\n",
              "          google.colab.kernel.accessAllowed ? 'block' : 'none';\n",
              "\n",
              "        async function convertToInteractive(key) {\n",
              "          const element = document.querySelector('#df-9f1eb132-349d-4e76-95c7-84a6a5f42508');\n",
              "          const dataTable =\n",
              "            await google.colab.kernel.invokeFunction('convertToInteractive',\n",
              "                                                     [key], {});\n",
              "          if (!dataTable) return;\n",
              "\n",
              "          const docLinkHtml = 'Like what you see? Visit the ' +\n",
              "            '<a target=\"_blank\" href=https://colab.research.google.com/notebooks/data_table.ipynb>data table notebook</a>'\n",
              "            + ' to learn more about interactive tables.';\n",
              "          element.innerHTML = '';\n",
              "          dataTable['output_type'] = 'display_data';\n",
              "          await google.colab.output.renderOutput(dataTable, element);\n",
              "          const docLink = document.createElement('div');\n",
              "          docLink.innerHTML = docLinkHtml;\n",
              "          element.appendChild(docLink);\n",
              "        }\n",
              "      </script>\n",
              "    </div>\n",
              "  </div>\n",
              "  "
            ],
            "text/plain": [
              "     bbox_x1  bbox_y1  bbox_x2  bbox_y2  class_idx      fname  \\\n",
              "871       69      109      461      284         54  00872.jpg   \n",
              "\n",
              "                            class_labels  \\\n",
              "871  Chevrolet_Corvette_Convertible_2012   \n",
              "\n",
              "                                             file_path  \n",
              "871  /content/stanford-cars-dataset/cars_train/cars...  "
            ]
          },
          "execution_count": 16,
          "metadata": {},
          "output_type": "execute_result"
        }
      ],
      "source": [
        "sample = val_df.sample()\n",
        "sample"
      ]
    },
    {
      "cell_type": "code",
      "execution_count": null,
      "metadata": {
        "colab": {
          "base_uri": "https://localhost:8080/",
          "height": 355
        },
        "id": "aZByPovHQlcQ",
        "outputId": "f0daf1ff-220c-4dab-83db-914d0fb7127a"
      },
      "outputs": [
        {
          "data": {
            "image/png": "[encoded data removed]",
            "text/plain": [
              "<PIL.JpegImagePlugin.JpegImageFile image mode=RGB size=510x338 at 0x7F1F11C527D0>"
            ]
          },
          "execution_count": 17,
          "metadata": {},
          "output_type": "execute_result"
        }
      ],
      "source": [
        "img = Image.open(sample['file_path'].item())\n",
        "img"
      ]
    },
    {
      "cell_type": "code",
      "execution_count": null,
      "metadata": {
        "colab": {
          "base_uri": "https://localhost:8080/"
        },
        "id": "vtT0b26lQlcQ",
        "outputId": "863076ee-adb4-4285-dd47-a52b210d2330"
      },
      "outputs": [
        {
          "data": {
            "text/plain": [
              "class_labels    Chevrolet_Corvette_Convertible_2012\n",
              "Name: 54, dtype: object"
            ]
          },
          "execution_count": 18,
          "metadata": {},
          "output_type": "execute_result"
        }
      ],
      "source": [
        "labels.iloc[sample['class_idx'].item()]"
      ]
    },
    {
      "cell_type": "markdown",
      "metadata": {
        "id": "I9qTulb_QlcR"
      },
      "source": [
        "prediction"
      ]
    },
    {
      "cell_type": "code",
      "execution_count": null,
      "metadata": {
        "colab": {
          "base_uri": "https://localhost:8080/"
        },
        "id": "1SzycCJLQlcR",
        "outputId": "6c0c02df-6858-4e25-9a5e-a64b1c88ee80"
      },
      "outputs": [
        {
          "data": {
            "text/plain": [
              "class_labels    Chrysler_Sebring_Convertible_2010\n",
              "Name: 76, dtype: object"
            ]
          },
          "execution_count": 19,
          "metadata": {},
          "output_type": "execute_result"
        }
      ],
      "source": [
        "predict(sample['file_path'].item(),model)"
      ]
    },
    {
      "cell_type": "markdown",
      "metadata": {
        "id": "MP29uK2AQlcR"
      },
      "source": [
        "Model Training"
      ]
    },
    {
      "cell_type": "code",
      "execution_count": null,
      "metadata": {
        "colab": {
          "base_uri": "https://localhost:8080/",
          "height": 71
        },
        "id": "bEJOXBErQlcR",
        "outputId": "dbf121ff-5eed-472f-8c2e-c750a87e1b9d"
      },
      "outputs": [
        {
          "data": {
            "application/javascript": [
              "\n",
              "        window._wandbApiKey = new Promise((resolve, reject) => {\n",
              "            function loadScript(url) {\n",
              "            return new Promise(function(resolve, reject) {\n",
              "                let newScript = document.createElement(\"script\");\n",
              "                newScript.onerror = reject;\n",
              "                newScript.onload = resolve;\n",
              "                document.body.appendChild(newScript);\n",
              "                newScript.src = url;\n",
              "            });\n",
              "            }\n",
              "            loadScript(\"https://cdn.jsdelivr.net/npm/postmate/build/postmate.min.js\").then(() => {\n",
              "            const iframe = document.createElement('iframe')\n",
              "            iframe.style.cssText = \"width:0;height:0;border:none\"\n",
              "            document.body.appendChild(iframe)\n",
              "            const handshake = new Postmate({\n",
              "                container: iframe,\n",
              "                url: 'https://wandb.ai/authorize'\n",
              "            });\n",
              "            const timeout = setTimeout(() => reject(\"Couldn't auto authenticate\"), 5000)\n",
              "            handshake.then(function(child) {\n",
              "                child.on('authorize', data => {\n",
              "                    clearTimeout(timeout)\n",
              "                    resolve(data)\n",
              "                });\n",
              "            });\n",
              "            })\n",
              "        });\n",
              "    "
            ],
            "text/plain": [
              "<IPython.core.display.Javascript object>"
            ]
          },
          "metadata": {},
          "output_type": "display_data"
        },
        {
          "name": "stderr",
          "output_type": "stream",
          "text": [
            "\u001b[34m\u001b[1mwandb\u001b[0m: Appending key for api.wandb.ai to your netrc file: /root/.netrc\n"
          ]
        },
        {
          "data": {
            "text/plain": [
              "True"
            ]
          },
          "execution_count": 20,
          "metadata": {},
          "output_type": "execute_result"
        }
      ],
      "source": [
        "import wandb\n",
        "wandb.login()"
      ]
    },
    {
      "cell_type": "code",
      "execution_count": null,
      "metadata": {
        "id": "yMfGCI4yQlcR"
      },
      "outputs": [],
      "source": [
        "def save_model(model_save_path, model,optimizer,epoch,avg_metrics):\n",
        "    print(f\"[INFO] Saving model to: {model_save_path}\")\n",
        "    torch.save(\n",
        "            {\n",
        "                'epoch': epoch,\n",
        "                'avg_metrics':avg_metrics,\n",
        "                'model_state_dict': model.state_dict(),\n",
        "                'optimizer_state_dict': optimizer.state_dict(),\n",
        "            },\n",
        "            f=model_save_path\n",
        "        )"
      ]
    },
    {
      "cell_type": "code",
      "execution_count": null,
      "metadata": {
        "id": "Q9PzFSLmQlcS"
      },
      "outputs": [],
      "source": [
        "def train_model(model,train_dataloader,test_dataloader,config):\n",
        "    device = get_device()\n",
        "    criterion = nn.CrossEntropyLoss().to(device)\n",
        "    optimizer = optim.Adam(model.parameters(),lr=config.learning_rate,weight_decay=config.weight_decay)\n",
        "    scheduler = optim.lr_scheduler.StepLR(optimizer, step_size=config.step_size, gamma=config.gamma)\n",
        "    best_model_wts = copy.deepcopy(model.state_dict())\n",
        "    best_acc = 0.0\n",
        "\n",
        "    wandb.init(project=config.project,name=config.experiment_name,config=config)\n",
        "\n",
        "    for epoch in tqdm(range(config.start_iter,config.epochs)):\n",
        "\n",
        "        model.train()\n",
        "        train_loss, train_acc, train_precision, train_recall = 0, 0, 0, 0\n",
        "        for  (X, y) in (train_dataloader):\n",
        "            X, y = X.to(device), y.to(device)\n",
        "            y_pred = model(X)\n",
        "\n",
        "            loss = criterion(y_pred, y)\n",
        "            train_loss += loss.item()\n",
        "\n",
        "            optimizer.zero_grad()\n",
        "            loss.backward()\n",
        "\n",
        "            if config.grad_clip:\n",
        "                nn.utils.clip_grad_value_(model.parameters(), config.grad_clip)\n",
        "            optimizer.step()\n",
        "\n",
        "            with torch.no_grad():\n",
        "                y_pred_class = torch.argmax(torch.softmax(y_pred, dim=1), dim=1)\n",
        "                batch_acc,batch_precision,batch_recall = evaluate_batch(y,y_pred_class)\n",
        "\n",
        "                train_acc += batch_acc\n",
        "                train_precision += batch_precision\n",
        "                train_recall += batch_recall\n",
        "\n",
        "        # calculate avg metrics per batch\n",
        "        avg_metrics = OrderedDict()\n",
        "        avg_metrics['lr'] = optimizer.param_groups[0]['lr']\n",
        "        avg_metrics['train_loss'] = train_loss / len(train_dataloader)\n",
        "        avg_metrics['train_acc'] = train_acc / len(train_dataloader)\n",
        "        avg_metrics['train_precision'] = train_precision/ len(train_dataloader)\n",
        "        avg_metrics['train_recall'] = train_recall/ len(train_dataloader)\n",
        "        avg_metrics['train_f1'] = (2 * (train_precision * train_recall) / (train_precision + train_recall)) / len(train_dataloader)\n",
        "\n",
        "        test_loss, test_acc, test_precision, test_recall = evaluate(model,test_dataloader,criterion)\n",
        "        avg_metrics['val_loss'] = test_loss\n",
        "        avg_metrics['val_acc'] = test_acc\n",
        "        avg_metrics['val_precision'] = test_precision\n",
        "        avg_metrics['val_recall'] = test_recall\n",
        "        avg_metrics['val_f1'] = 2 * (test_precision * test_recall) / (test_precision + test_recall)\n",
        "\n",
        "        scheduler.step()\n",
        "\n",
        "        wandb.log(avg_metrics, step=epoch+1)\n",
        "        print(f\"Epoch : {epoch+1}\")\n",
        "        print(f\"Train Loss : {avg_metrics['train_loss']: .4f} | Train Acc : {avg_metrics['train_acc']: .4f} | Train F1 : {avg_metrics['train_f1']: .4f} \")\n",
        "        print(f\"Val Loss   : {avg_metrics['val_loss']: .4f}   | Val Acc : {avg_metrics['val_acc']: .4f}     | Val F1   : {avg_metrics['val_f1']: .4f}\")\n",
        "\n",
        "        if (epoch+1) % config.checkpoint_period == 0:\n",
        "            os.makedirs(config.models_dir, exist_ok=True)\n",
        "            model_save_path  = os.path.join(config.models_dir, f'model_chkpt_{epoch+1}_acc_{avg_metrics[\"val_acc\"]: .3f}.pth')\n",
        "            #save_model(model_save_path, model,optimizer,epoch,avg_metrics)\n",
        "        if avg_metrics['val_acc']  > best_acc and avg_metrics['val_acc'] > 0.5:\n",
        "            best_acc = avg_metrics['val_acc']\n",
        "            best_model_wts = copy.deepcopy(model.state_dict())\n",
        "            os.makedirs(config.models_dir, exist_ok=True)\n",
        "            model_save_path  = os.path.join(config.models_dir, f'{config.experiment_name}_best_model.pth')\n",
        "            save_model(model_save_path, model,optimizer,epoch+1,avg_metrics)\n",
        "\n",
        "    wandb.finish()\n",
        "    print()\n",
        "    print(f\"Best Val Acc: {best_acc:.4f}\")\n",
        "    model.load_state_dict(best_model_wts)\n",
        "\n",
        "    return model"
      ]
    },
    {
      "cell_type": "code",
      "execution_count": null,
      "metadata": {
        "id": "TjYbagrrQlcS"
      },
      "outputs": [],
      "source": [
        "from munch import Munch\n",
        "config = dict()\n",
        "config.update({\n",
        "    \"project\":\"kaggle_vit\",\n",
        "    \"experiment_name\":\"vit_b_16_384_FineTune_model_Adam_normal_head_bs_16\",\n",
        "    \"models_dir\": \"models\",\n",
        "    \"history_dir\": \"history\",\n",
        "    \"start_iter\": 0,\n",
        "    \"epochs\": 15,\n",
        "    \"checkpoint_period\": 3,\n",
        "    \"grad_clip\": 1.0,\n",
        "    \"metric\": \"val_f1\",\n",
        "    \"optimizer\": \"Adam\",\n",
        "    \"learning_rate\": 0.0001,\n",
        "    'weight_decay': 0.00001,\n",
        "    \"step_size\" : 5,\n",
        "    \"gamma\": 0.97 ,\n",
        "    \"batch_size\": BATCHSIZE\n",
        "})\n",
        "config = Munch(config)"
      ]
    },
    {
      "cell_type": "code",
      "execution_count": null,
      "metadata": {
        "colab": {
          "background_save": true,
          "base_uri": "https://localhost:8080/",
          "height": 886
        },
        "id": "WxdJ794RQlcS",
        "outputId": "a417cd46-3dd8-4bbc-ee71-d18ed773e004"
      },
      "outputs": [
        {
          "name": "stderr",
          "output_type": "stream",
          "text": [
            "Some weights of the model checkpoint at google/vit-base-patch16-384 were not used when initializing ViTModel: ['classifier.bias', 'classifier.weight']\n",
            "- This IS expected if you are initializing ViTModel from the checkpoint of a model trained on another task or with another architecture (e.g. initializing a BertForSequenceClassification model from a BertForPreTraining model).\n",
            "- This IS NOT expected if you are initializing ViTModel from the checkpoint of a model that you expect to be exactly identical (initializing a BertForSequenceClassification model from a BertForSequenceClassification model).\n",
            "\u001b[34m\u001b[1mwandb\u001b[0m: Currently logged in as: \u001b[33mvasanthsai26\u001b[0m. Use \u001b[1m`wandb login --relogin`\u001b[0m to force relogin\n"
          ]
        },
        {
          "data": {
            "text/html": [
              "Tracking run with wandb version 0.15.4"
            ],
            "text/plain": [
              "<IPython.core.display.HTML object>"
            ]
          },
          "metadata": {},
          "output_type": "display_data"
        },
        {
          "data": {
            "text/html": [
              "Run data is saved locally in <code>/content/wandb/run-20230622_133156-28660mw8</code>"
            ],
            "text/plain": [
              "<IPython.core.display.HTML object>"
            ]
          },
          "metadata": {},
          "output_type": "display_data"
        },
        {
          "data": {
            "text/html": [
              "Syncing run <strong><a href='https://wandb.ai/vasanthsai26/kaggle_vit/runs/28660mw8' target=\"_blank\">vit_b_16_384_FineTune_model_Adam_normal_head_bs_16</a></strong> to <a href='https://wandb.ai/vasanthsai26/kaggle_vit' target=\"_blank\">Weights & Biases</a> (<a href='https://wandb.me/run' target=\"_blank\">docs</a>)<br/>"
            ],
            "text/plain": [
              "<IPython.core.display.HTML object>"
            ]
          },
          "metadata": {},
          "output_type": "display_data"
        },
        {
          "data": {
            "text/html": [
              " View project at <a href='https://wandb.ai/vasanthsai26/kaggle_vit' target=\"_blank\">https://wandb.ai/vasanthsai26/kaggle_vit</a>"
            ],
            "text/plain": [
              "<IPython.core.display.HTML object>"
            ]
          },
          "metadata": {},
          "output_type": "display_data"
        },
        {
          "data": {
            "text/html": [
              " View run at <a href='https://wandb.ai/vasanthsai26/kaggle_vit/runs/28660mw8' target=\"_blank\">https://wandb.ai/vasanthsai26/kaggle_vit/runs/28660mw8</a>"
            ],
            "text/plain": [
              "<IPython.core.display.HTML object>"
            ]
          },
          "metadata": {},
          "output_type": "display_data"
        },
        {
          "name": "stderr",
          "output_type": "stream",
          "text": [
            "  7%|▋         | 1/15 [13:12<3:05:01, 792.98s/it]"
          ]
        },
        {
          "name": "stdout",
          "output_type": "stream",
          "text": [
            "Epoch : 1\n",
            "Train Loss :  4.4616 | Train Acc :  0.0925 | Train F1 :  0.0547 \n",
            "Val Loss   :  2.7898   | Val Acc :  0.3210     | Val F1   :  0.2048\n",
            "Epoch : 2\n",
            "Train Loss :  2.0828 | Train Acc :  0.5021 | Train F1 :  0.3548 \n",
            "Val Loss   :  1.3420   | Val Acc :  0.6515     | Val F1   :  0.5034\n",
            "[INFO] Saving model to: models/vit_b_16_384_FineTune_model_Adam_normal_head_bs_16_best_model.pth\n"
          ]
        },
        {
          "name": "stderr",
          "output_type": "stream",
          "text": [
            "\r 13%|█▎        | 2/15 [26:28<2:52:11, 794.74s/it]"
          ]
        },
        {
          "name": "stdout",
          "output_type": "stream",
          "text": [
            "Epoch : 3\n",
            "Train Loss :  1.1213 | Train Acc :  0.7374 | Train F1 :  0.6035 \n",
            "Val Loss   :  1.0215   | Val Acc :  0.7330     | Val F1   :  0.5973\n",
            "[INFO] Saving model to: models/vit_b_16_384_FineTune_model_Adam_normal_head_bs_16_best_model.pth\n"
          ]
        },
        {
          "name": "stderr",
          "output_type": "stream",
          "text": [
            "\r 20%|██        | 3/15 [39:49<2:39:26, 797.21s/it]"
          ]
        },
        {
          "name": "stdout",
          "output_type": "stream",
          "text": [
            "Epoch : 4\n",
            "Train Loss :  0.7750 | Train Acc :  0.8154 | Train F1 :  0.7045 \n",
            "Val Loss   :  0.8279   | Val Acc :  0.7690     | Val F1   :  0.6441\n",
            "[INFO] Saving model to: models/vit_b_16_384_FineTune_model_Adam_normal_head_bs_16_best_model.pth\n"
          ]
        },
        {
          "name": "stderr",
          "output_type": "stream",
          "text": [
            "\r 27%|██▋       | 4/15 [53:06<2:26:11, 797.40s/it]"
          ]
        },
        {
          "name": "stdout",
          "output_type": "stream",
          "text": [
            "Epoch : 5\n",
            "Train Loss :  0.6259 | Train Acc :  0.8568 | Train F1 :  0.7632 \n",
            "Val Loss   :  0.6989   | Val Acc :  0.7966     | Val F1   :  0.6789\n",
            "[INFO] Saving model to: models/vit_b_16_384_FineTune_model_Adam_normal_head_bs_16_best_model.pth\n"
          ]
        },
        {
          "name": "stderr",
          "output_type": "stream",
          "text": [
            "\r 33%|███▎      | 5/15 [1:06:24<2:12:53, 797.38s/it]"
          ]
        },
        {
          "name": "stdout",
          "output_type": "stream",
          "text": [
            "Epoch : 6\n",
            "Train Loss :  0.5394 | Train Acc :  0.8705 | Train F1 :  0.7840 \n",
            "Val Loss   :  0.7285   | Val Acc :  0.8076     | Val F1   :  0.6934\n",
            "[INFO] Saving model to: models/vit_b_16_384_FineTune_model_Adam_normal_head_bs_16_best_model.pth\n"
          ]
        },
        {
          "name": "stderr",
          "output_type": "stream",
          "text": [
            "\r 40%|████      | 6/15 [1:19:43<1:59:41, 797.97s/it]"
          ]
        },
        {
          "name": "stdout",
          "output_type": "stream",
          "text": [
            "Epoch : 7\n",
            "Train Loss :  0.4746 | Train Acc :  0.8891 | Train F1 :  0.8130 \n",
            "Val Loss   :  0.6806   | Val Acc :  0.8164     | Val F1   :  0.7061\n",
            "[INFO] Saving model to: models/vit_b_16_384_FineTune_model_Adam_normal_head_bs_16_best_model.pth\n"
          ]
        },
        {
          "name": "stderr",
          "output_type": "stream",
          "text": [
            "\r 47%|████▋     | 7/15 [1:33:01<1:46:25, 798.17s/it]"
          ]
        },
        {
          "name": "stdout",
          "output_type": "stream",
          "text": [
            "Epoch : 8\n",
            "Train Loss :  0.4879 | Train Acc :  0.8848 | Train F1 :  0.8073 \n",
            "Val Loss   :  0.6993   | Val Acc :  0.8185     | Val F1   :  0.7082\n",
            "[INFO] Saving model to: models/vit_b_16_384_FineTune_model_Adam_normal_head_bs_16_best_model.pth\n"
          ]
        },
        {
          "name": "stderr",
          "output_type": "stream",
          "text": [
            "\r 53%|█████▎    | 8/15 [1:46:18<1:33:03, 797.62s/it]"
          ]
        },
        {
          "name": "stdout",
          "output_type": "stream",
          "text": [
            "Epoch : 9\n",
            "Train Loss :  0.4489 | Train Acc :  0.8950 | Train F1 :  0.8232 \n",
            "Val Loss   :  0.6095   | Val Acc :  0.8305     | Val F1   :  0.7235\n",
            "[INFO] Saving model to: models/vit_b_16_384_FineTune_model_Adam_normal_head_bs_16_best_model.pth\n"
          ]
        },
        {
          "name": "stderr",
          "output_type": "stream",
          "text": [
            " 67%|██████▋   | 10/15 [2:12:48<1:06:21, 796.21s/it]"
          ]
        },
        {
          "name": "stdout",
          "output_type": "stream",
          "text": [
            "Epoch : 10\n",
            "Train Loss :  0.4243 | Train Acc :  0.8951 | Train F1 :  0.8214 \n",
            "Val Loss   :  0.6319   | Val Acc :  0.8305     | Val F1   :  0.7237\n",
            "Epoch : 11\n",
            "Train Loss :  0.4020 | Train Acc :  0.9041 | Train F1 :  0.8343 \n",
            "Val Loss   :  0.5936   | Val Acc :  0.8465     | Val F1   :  0.7473\n",
            "[INFO] Saving model to: models/vit_b_16_384_FineTune_model_Adam_normal_head_bs_16_best_model.pth\n"
          ]
        },
        {
          "name": "stderr",
          "output_type": "stream",
          "text": [
            "\r 73%|███████▎  | 11/15 [2:26:10<53:11, 797.80s/it]  "
          ]
        }
      ],
      "source": [
        "set_seeds(42)\n",
        "model = ViT().to(get_device())\n",
        "trained_model = train_model(model,train_dataloader,val_dataloader,config)"
      ]
    },
    {
      "cell_type": "code",
      "execution_count": null,
      "metadata": {
        "id": "BoW63J2UQlcT"
      },
      "outputs": [],
      "source": [
        "labels = create_labels()\n",
        "class_labels_dict = labels['class_labels'].to_dict()\n",
        "\n",
        "def evaluate_model(model, val_loader, class_labels):\n",
        "    model.eval()\n",
        "    device = get_device()\n",
        "    total_samples = 0\n",
        "    correct_predictions = 0\n",
        "\n",
        "    class_correct = torch.zeros(len(class_labels))\n",
        "    class_total = torch.zeros(len(class_labels))\n",
        "\n",
        "    result_dict = dict()\n",
        "\n",
        "    with torch.no_grad():\n",
        "        for images, labels in val_loader:\n",
        "            images = images.to(device)\n",
        "            labels = labels.to(device)\n",
        "\n",
        "            outputs = model(images)\n",
        "            _, predicted = torch.max(outputs, 1)\n",
        "\n",
        "            total_samples += labels.size(0)\n",
        "            correct_predictions += (predicted == labels).sum().item()\n",
        "\n",
        "            for i in range(len(labels)):\n",
        "                label = labels[i]\n",
        "                prediction = predicted[i]\n",
        "                class_correct[label] += (prediction == label).item()\n",
        "                class_total[label] += 1\n",
        "\n",
        "    print('Correctly predicted classes:')\n",
        "    for i in range(len(class_labels)):\n",
        "        class_name = class_labels[i]\n",
        "        accuracy = 100 * class_correct[i] / class_total[i]\n",
        "        print(f'{class_name}: {accuracy:.2f}%')\n",
        "\n",
        "    print('\\nIncorrectly predicted classes:')\n",
        "    for i in range(len(class_labels)):\n",
        "        class_name = class_labels[i]\n",
        "        incorrect_samples = class_total[i] - class_correct[i]\n",
        "        accuracy = 100 * incorrect_samples / class_total[i]\n",
        "        print(f'{class_name}: {accuracy:.2f}%')\n",
        "\n",
        "    print('\\nTotal samples:')\n",
        "    print(f'Total: {total_samples}')\n",
        "    accuracy = 100 * correct_predictions / total_samples\n",
        "    print(f'Accuracy: {accuracy:.2f}%')"
      ]
    },
    {
      "cell_type": "code",
      "execution_count": null,
      "metadata": {
        "id": "neba4Fw4QlcT"
      },
      "outputs": [],
      "source": []
    },
    {
      "cell_type": "code",
      "execution_count": null,
      "metadata": {
        "id": "tUlDXq8xQlcT"
      },
      "outputs": [],
      "source": [
        "evaluate_model(trained_model, val_dataloader, class_labels_dict)"
      ]
    },
    {
      "cell_type": "code",
      "execution_count": null,
      "metadata": {
        "id": "x_LiS-dhQlcT"
      },
      "outputs": [],
      "source": []
    }
  ],
  "metadata": {
    "accelerator": "GPU",
    "colab": {
      "provenance": []
    },
    "kernelspec": {
      "display_name": "Python 3",
      "name": "python3"
    },
    "language_info": {
      "codemirror_mode": {
        "name": "ipython",
        "version": 3
      },
      "file_extension": ".py",
      "mimetype": "text/x-python",
      "name": "python",
      "nbconvert_exporter": "python",
      "pygments_lexer": "ipython3",
      "version": "3.10.10"
    },
    "widgets": {
      "application/vnd.jupyter.widget-state+json": {
        "0dc9f9fa8b0c41d88bd38286ce353514": {
          "model_module": "@jupyter-widgets/base",
          "model_module_version": "1.2.0",
          "model_name": "LayoutModel",
          "state": {
            "_model_module": "@jupyter-widgets/base",
            "_model_module_version": "1.2.0",
            "_model_name": "LayoutModel",
            "_view_count": null,
            "_view_module": "@jupyter-widgets/base",
            "_view_module_version": "1.2.0",
            "_view_name": "LayoutView",
            "align_content": null,
            "align_items": null,
            "align_self": null,
            "border": null,
            "bottom": null,
            "display": null,
            "flex": null,
            "flex_flow": null,
            "grid_area": null,
            "grid_auto_columns": null,
            "grid_auto_flow": null,
            "grid_auto_rows": null,
            "grid_column": null,
            "grid_gap": null,
            "grid_row": null,
            "grid_template_areas": null,
            "grid_template_columns": null,
            "grid_template_rows": null,
            "height": null,
            "justify_content": null,
            "justify_items": null,
            "left": null,
            "margin": null,
            "max_height": null,
            "max_width": null,
            "min_height": null,
            "min_width": null,
            "object_fit": null,
            "object_position": null,
            "order": null,
            "overflow": null,
            "overflow_x": null,
            "overflow_y": null,
            "padding": null,
            "right": null,
            "top": null,
            "visibility": null,
            "width": "20px"
          }
        },
        "149b307917dd4070b885942c1de87662": {
          "model_module": "@jupyter-widgets/controls",
          "model_module_version": "1.5.0",
          "model_name": "DescriptionStyleModel",
          "state": {
            "_model_module": "@jupyter-widgets/controls",
            "_model_module_version": "1.5.0",
            "_model_name": "DescriptionStyleModel",
            "_view_count": null,
            "_view_module": "@jupyter-widgets/base",
            "_view_module_version": "1.2.0",
            "_view_name": "StyleView",
            "description_width": ""
          }
        },
        "36545df174f244358e8c0f69fd633b98": {
          "model_module": "@jupyter-widgets/controls",
          "model_module_version": "1.5.0",
          "model_name": "HTMLModel",
          "state": {
            "_dom_classes": [],
            "_model_module": "@jupyter-widgets/controls",
            "_model_module_version": "1.5.0",
            "_model_name": "HTMLModel",
            "_view_count": null,
            "_view_module": "@jupyter-widgets/controls",
            "_view_module_version": "1.5.0",
            "_view_name": "HTMLView",
            "description": "",
            "description_tooltip": null,
            "layout": "IPY_MODEL_4a895608365842eb8fee6ccc09c48d07",
            "placeholder": "​",
            "style": "IPY_MODEL_149b307917dd4070b885942c1de87662",
            "value": "Downloading (…)lve/main/config.json: "
          }
        },
        "4a895608365842eb8fee6ccc09c48d07": {
          "model_module": "@jupyter-widgets/base",
          "model_module_version": "1.2.0",
          "model_name": "LayoutModel",
          "state": {
            "_model_module": "@jupyter-widgets/base",
            "_model_module_version": "1.2.0",
            "_model_name": "LayoutModel",
            "_view_count": null,
            "_view_module": "@jupyter-widgets/base",
            "_view_module_version": "1.2.0",
            "_view_name": "LayoutView",
            "align_content": null,
            "align_items": null,
            "align_self": null,
            "border": null,
            "bottom": null,
            "display": null,
            "flex": null,
            "flex_flow": null,
            "grid_area": null,
            "grid_auto_columns": null,
            "grid_auto_flow": null,
            "grid_auto_rows": null,
            "grid_column": null,
            "grid_gap": null,
            "grid_row": null,
            "grid_template_areas": null,
            "grid_template_columns": null,
            "grid_template_rows": null,
            "height": null,
            "justify_content": null,
            "justify_items": null,
            "left": null,
            "margin": null,
            "max_height": null,
            "max_width": null,
            "min_height": null,
            "min_width": null,
            "object_fit": null,
            "object_position": null,
            "order": null,
            "overflow": null,
            "overflow_x": null,
            "overflow_y": null,
            "padding": null,
            "right": null,
            "top": null,
            "visibility": null,
            "width": null
          }
        },
        "4a8d3fc482c740e8925dd06c42fa132f": {
          "model_module": "@jupyter-widgets/controls",
          "model_module_version": "1.5.0",
          "model_name": "ProgressStyleModel",
          "state": {
            "_model_module": "@jupyter-widgets/controls",
            "_model_module_version": "1.5.0",
            "_model_name": "ProgressStyleModel",
            "_view_count": null,
            "_view_module": "@jupyter-widgets/base",
            "_view_module_version": "1.2.0",
            "_view_name": "StyleView",
            "bar_color": null,
            "description_width": ""
          }
        },
        "5c8ec623c843439d844e8116c88e15ec": {
          "model_module": "@jupyter-widgets/base",
          "model_module_version": "1.2.0",
          "model_name": "LayoutModel",
          "state": {
            "_model_module": "@jupyter-widgets/base",
            "_model_module_version": "1.2.0",
            "_model_name": "LayoutModel",
            "_view_count": null,
            "_view_module": "@jupyter-widgets/base",
            "_view_module_version": "1.2.0",
            "_view_name": "LayoutView",
            "align_content": null,
            "align_items": null,
            "align_self": null,
            "border": null,
            "bottom": null,
            "display": null,
            "flex": null,
            "flex_flow": null,
            "grid_area": null,
            "grid_auto_columns": null,
            "grid_auto_flow": null,
            "grid_auto_rows": null,
            "grid_column": null,
            "grid_gap": null,
            "grid_row": null,
            "grid_template_areas": null,
            "grid_template_columns": null,
            "grid_template_rows": null,
            "height": null,
            "justify_content": null,
            "justify_items": null,
            "left": null,
            "margin": null,
            "max_height": null,
            "max_width": null,
            "min_height": null,
            "min_width": null,
            "object_fit": null,
            "object_position": null,
            "order": null,
            "overflow": null,
            "overflow_x": null,
            "overflow_y": null,
            "padding": null,
            "right": null,
            "top": null,
            "visibility": null,
            "width": null
          }
        },
        "851c7469fbc64933aead0e8de49dcc65": {
          "model_module": "@jupyter-widgets/controls",
          "model_module_version": "1.5.0",
          "model_name": "ProgressStyleModel",
          "state": {
            "_model_module": "@jupyter-widgets/controls",
            "_model_module_version": "1.5.0",
            "_model_name": "ProgressStyleModel",
            "_view_count": null,
            "_view_module": "@jupyter-widgets/base",
            "_view_module_version": "1.2.0",
            "_view_name": "StyleView",
            "bar_color": null,
            "description_width": ""
          }
        },
        "8933f54729f54330a53a50559c1a7018": {
          "model_module": "@jupyter-widgets/controls",
          "model_module_version": "1.5.0",
          "model_name": "HBoxModel",
          "state": {
            "_dom_classes": [],
            "_model_module": "@jupyter-widgets/controls",
            "_model_module_version": "1.5.0",
            "_model_name": "HBoxModel",
            "_view_count": null,
            "_view_module": "@jupyter-widgets/controls",
            "_view_module_version": "1.5.0",
            "_view_name": "HBoxView",
            "box_style": "",
            "children": [
              "IPY_MODEL_aed6fef7370342d2abee595266de43cc",
              "IPY_MODEL_f099e2ea174149fea49af71ea5774c18",
              "IPY_MODEL_930fd05f06ae4551a48f6485fa712d46"
            ],
            "layout": "IPY_MODEL_cbce584d2e2341ffaee242aee091d0f1"
          }
        },
        "930fd05f06ae4551a48f6485fa712d46": {
          "model_module": "@jupyter-widgets/controls",
          "model_module_version": "1.5.0",
          "model_name": "HTMLModel",
          "state": {
            "_dom_classes": [],
            "_model_module": "@jupyter-widgets/controls",
            "_model_module_version": "1.5.0",
            "_model_name": "HTMLModel",
            "_view_count": null,
            "_view_module": "@jupyter-widgets/controls",
            "_view_module_version": "1.5.0",
            "_view_name": "HTMLView",
            "description": "",
            "description_tooltip": null,
            "layout": "IPY_MODEL_a8be91ed21484699a7d5edd6f943710c",
            "placeholder": "​",
            "style": "IPY_MODEL_e80f33dde8a4492397f61da4c4bff476",
            "value": " 348M/348M [00:01&lt;00:00, 261MB/s]"
          }
        },
        "a3df302ed84142e0bc249b5b17fda980": {
          "model_module": "@jupyter-widgets/controls",
          "model_module_version": "1.5.0",
          "model_name": "DescriptionStyleModel",
          "state": {
            "_model_module": "@jupyter-widgets/controls",
            "_model_module_version": "1.5.0",
            "_model_name": "DescriptionStyleModel",
            "_view_count": null,
            "_view_module": "@jupyter-widgets/base",
            "_view_module_version": "1.2.0",
            "_view_name": "StyleView",
            "description_width": ""
          }
        },
        "a4c00697c77c49e6af25e9e6ebfadae3": {
          "model_module": "@jupyter-widgets/base",
          "model_module_version": "1.2.0",
          "model_name": "LayoutModel",
          "state": {
            "_model_module": "@jupyter-widgets/base",
            "_model_module_version": "1.2.0",
            "_model_name": "LayoutModel",
            "_view_count": null,
            "_view_module": "@jupyter-widgets/base",
            "_view_module_version": "1.2.0",
            "_view_name": "LayoutView",
            "align_content": null,
            "align_items": null,
            "align_self": null,
            "border": null,
            "bottom": null,
            "display": null,
            "flex": null,
            "flex_flow": null,
            "grid_area": null,
            "grid_auto_columns": null,
            "grid_auto_flow": null,
            "grid_auto_rows": null,
            "grid_column": null,
            "grid_gap": null,
            "grid_row": null,
            "grid_template_areas": null,
            "grid_template_columns": null,
            "grid_template_rows": null,
            "height": null,
            "justify_content": null,
            "justify_items": null,
            "left": null,
            "margin": null,
            "max_height": null,
            "max_width": null,
            "min_height": null,
            "min_width": null,
            "object_fit": null,
            "object_position": null,
            "order": null,
            "overflow": null,
            "overflow_x": null,
            "overflow_y": null,
            "padding": null,
            "right": null,
            "top": null,
            "visibility": null,
            "width": null
          }
        },
        "a595fc1915ad4b0f83826399fc9e4d23": {
          "model_module": "@jupyter-widgets/controls",
          "model_module_version": "1.5.0",
          "model_name": "HTMLModel",
          "state": {
            "_dom_classes": [],
            "_model_module": "@jupyter-widgets/controls",
            "_model_module_version": "1.5.0",
            "_model_name": "HTMLModel",
            "_view_count": null,
            "_view_module": "@jupyter-widgets/controls",
            "_view_module_version": "1.5.0",
            "_view_name": "HTMLView",
            "description": "",
            "description_tooltip": null,
            "layout": "IPY_MODEL_a4c00697c77c49e6af25e9e6ebfadae3",
            "placeholder": "​",
            "style": "IPY_MODEL_ac668078fd524c67bd658166e1ba0ee0",
            "value": " 69.7k/? [00:00&lt;00:00, 3.25MB/s]"
          }
        },
        "a8be91ed21484699a7d5edd6f943710c": {
          "model_module": "@jupyter-widgets/base",
          "model_module_version": "1.2.0",
          "model_name": "LayoutModel",
          "state": {
            "_model_module": "@jupyter-widgets/base",
            "_model_module_version": "1.2.0",
            "_model_name": "LayoutModel",
            "_view_count": null,
            "_view_module": "@jupyter-widgets/base",
            "_view_module_version": "1.2.0",
            "_view_name": "LayoutView",
            "align_content": null,
            "align_items": null,
            "align_self": null,
            "border": null,
            "bottom": null,
            "display": null,
            "flex": null,
            "flex_flow": null,
            "grid_area": null,
            "grid_auto_columns": null,
            "grid_auto_flow": null,
            "grid_auto_rows": null,
            "grid_column": null,
            "grid_gap": null,
            "grid_row": null,
            "grid_template_areas": null,
            "grid_template_columns": null,
            "grid_template_rows": null,
            "height": null,
            "justify_content": null,
            "justify_items": null,
            "left": null,
            "margin": null,
            "max_height": null,
            "max_width": null,
            "min_height": null,
            "min_width": null,
            "object_fit": null,
            "object_position": null,
            "order": null,
            "overflow": null,
            "overflow_x": null,
            "overflow_y": null,
            "padding": null,
            "right": null,
            "top": null,
            "visibility": null,
            "width": null
          }
        },
        "ac668078fd524c67bd658166e1ba0ee0": {
          "model_module": "@jupyter-widgets/controls",
          "model_module_version": "1.5.0",
          "model_name": "DescriptionStyleModel",
          "state": {
            "_model_module": "@jupyter-widgets/controls",
            "_model_module_version": "1.5.0",
            "_model_name": "DescriptionStyleModel",
            "_view_count": null,
            "_view_module": "@jupyter-widgets/base",
            "_view_module_version": "1.2.0",
            "_view_name": "StyleView",
            "description_width": ""
          }
        },
        "aed6fef7370342d2abee595266de43cc": {
          "model_module": "@jupyter-widgets/controls",
          "model_module_version": "1.5.0",
          "model_name": "HTMLModel",
          "state": {
            "_dom_classes": [],
            "_model_module": "@jupyter-widgets/controls",
            "_model_module_version": "1.5.0",
            "_model_name": "HTMLModel",
            "_view_count": null,
            "_view_module": "@jupyter-widgets/controls",
            "_view_module_version": "1.5.0",
            "_view_name": "HTMLView",
            "description": "",
            "description_tooltip": null,
            "layout": "IPY_MODEL_f984a1f6330d49218a893f1969d9b99f",
            "placeholder": "​",
            "style": "IPY_MODEL_a3df302ed84142e0bc249b5b17fda980",
            "value": "Downloading pytorch_model.bin: 100%"
          }
        },
        "cbce584d2e2341ffaee242aee091d0f1": {
          "model_module": "@jupyter-widgets/base",
          "model_module_version": "1.2.0",
          "model_name": "LayoutModel",
          "state": {
            "_model_module": "@jupyter-widgets/base",
            "_model_module_version": "1.2.0",
            "_model_name": "LayoutModel",
            "_view_count": null,
            "_view_module": "@jupyter-widgets/base",
            "_view_module_version": "1.2.0",
            "_view_name": "LayoutView",
            "align_content": null,
            "align_items": null,
            "align_self": null,
            "border": null,
            "bottom": null,
            "display": null,
            "flex": null,
            "flex_flow": null,
            "grid_area": null,
            "grid_auto_columns": null,
            "grid_auto_flow": null,
            "grid_auto_rows": null,
            "grid_column": null,
            "grid_gap": null,
            "grid_row": null,
            "grid_template_areas": null,
            "grid_template_columns": null,
            "grid_template_rows": null,
            "height": null,
            "justify_content": null,
            "justify_items": null,
            "left": null,
            "margin": null,
            "max_height": null,
            "max_width": null,
            "min_height": null,
            "min_width": null,
            "object_fit": null,
            "object_position": null,
            "order": null,
            "overflow": null,
            "overflow_x": null,
            "overflow_y": null,
            "padding": null,
            "right": null,
            "top": null,
            "visibility": null,
            "width": null
          }
        },
        "d7ae93643e2e4585a1bf3c24629cba30": {
          "model_module": "@jupyter-widgets/controls",
          "model_module_version": "1.5.0",
          "model_name": "HBoxModel",
          "state": {
            "_dom_classes": [],
            "_model_module": "@jupyter-widgets/controls",
            "_model_module_version": "1.5.0",
            "_model_name": "HBoxModel",
            "_view_count": null,
            "_view_module": "@jupyter-widgets/controls",
            "_view_module_version": "1.5.0",
            "_view_name": "HBoxView",
            "box_style": "",
            "children": [
              "IPY_MODEL_36545df174f244358e8c0f69fd633b98",
              "IPY_MODEL_eac0ad052ab2443eb1ca1c74aafa84f9",
              "IPY_MODEL_a595fc1915ad4b0f83826399fc9e4d23"
            ],
            "layout": "IPY_MODEL_5c8ec623c843439d844e8116c88e15ec"
          }
        },
        "e80f33dde8a4492397f61da4c4bff476": {
          "model_module": "@jupyter-widgets/controls",
          "model_module_version": "1.5.0",
          "model_name": "DescriptionStyleModel",
          "state": {
            "_model_module": "@jupyter-widgets/controls",
            "_model_module_version": "1.5.0",
            "_model_name": "DescriptionStyleModel",
            "_view_count": null,
            "_view_module": "@jupyter-widgets/base",
            "_view_module_version": "1.2.0",
            "_view_name": "StyleView",
            "description_width": ""
          }
        },
        "eac0ad052ab2443eb1ca1c74aafa84f9": {
          "model_module": "@jupyter-widgets/controls",
          "model_module_version": "1.5.0",
          "model_name": "FloatProgressModel",
          "state": {
            "_dom_classes": [],
            "_model_module": "@jupyter-widgets/controls",
            "_model_module_version": "1.5.0",
            "_model_name": "FloatProgressModel",
            "_view_count": null,
            "_view_module": "@jupyter-widgets/controls",
            "_view_module_version": "1.5.0",
            "_view_name": "ProgressView",
            "bar_style": "success",
            "description": "",
            "description_tooltip": null,
            "layout": "IPY_MODEL_0dc9f9fa8b0c41d88bd38286ce353514",
            "max": 1,
            "min": 0,
            "orientation": "horizontal",
            "style": "IPY_MODEL_851c7469fbc64933aead0e8de49dcc65",
            "value": 1
          }
        },
        "f099e2ea174149fea49af71ea5774c18": {
          "model_module": "@jupyter-widgets/controls",
          "model_module_version": "1.5.0",
          "model_name": "FloatProgressModel",
          "state": {
            "_dom_classes": [],
            "_model_module": "@jupyter-widgets/controls",
            "_model_module_version": "1.5.0",
            "_model_name": "FloatProgressModel",
            "_view_count": null,
            "_view_module": "@jupyter-widgets/controls",
            "_view_module_version": "1.5.0",
            "_view_name": "ProgressView",
            "bar_style": "success",
            "description": "",
            "description_tooltip": null,
            "layout": "IPY_MODEL_f742c6d477724733ac9c406e030ad68d",
            "max": 347518959,
            "min": 0,
            "orientation": "horizontal",
            "style": "IPY_MODEL_4a8d3fc482c740e8925dd06c42fa132f",
            "value": 347518959
          }
        },
        "f742c6d477724733ac9c406e030ad68d": {
          "model_module": "@jupyter-widgets/base",
          "model_module_version": "1.2.0",
          "model_name": "LayoutModel",
          "state": {
            "_model_module": "@jupyter-widgets/base",
            "_model_module_version": "1.2.0",
            "_model_name": "LayoutModel",
            "_view_count": null,
            "_view_module": "@jupyter-widgets/base",
            "_view_module_version": "1.2.0",
            "_view_name": "LayoutView",
            "align_content": null,
            "align_items": null,
            "align_self": null,
            "border": null,
            "bottom": null,
            "display": null,
            "flex": null,
            "flex_flow": null,
            "grid_area": null,
            "grid_auto_columns": null,
            "grid_auto_flow": null,
            "grid_auto_rows": null,
            "grid_column": null,
            "grid_gap": null,
            "grid_row": null,
            "grid_template_areas": null,
            "grid_template_columns": null,
            "grid_template_rows": null,
            "height": null,
            "justify_content": null,
            "justify_items": null,
            "left": null,
            "margin": null,
            "max_height": null,
            "max_width": null,
            "min_height": null,
            "min_width": null,
            "object_fit": null,
            "object_position": null,
            "order": null,
            "overflow": null,
            "overflow_x": null,
            "overflow_y": null,
            "padding": null,
            "right": null,
            "top": null,
            "visibility": null,
            "width": null
          }
        },
        "f984a1f6330d49218a893f1969d9b99f": {
          "model_module": "@jupyter-widgets/base",
          "model_module_version": "1.2.0",
          "model_name": "LayoutModel",
          "state": {
            "_model_module": "@jupyter-widgets/base",
            "_model_module_version": "1.2.0",
            "_model_name": "LayoutModel",
            "_view_count": null,
            "_view_module": "@jupyter-widgets/base",
            "_view_module_version": "1.2.0",
            "_view_name": "LayoutView",
            "align_content": null,
            "align_items": null,
            "align_self": null,
            "border": null,
            "bottom": null,
            "display": null,
            "flex": null,
            "flex_flow": null,
            "grid_area": null,
            "grid_auto_columns": null,
            "grid_auto_flow": null,
            "grid_auto_rows": null,
            "grid_column": null,
            "grid_gap": null,
            "grid_row": null,
            "grid_template_areas": null,
            "grid_template_columns": null,
            "grid_template_rows": null,
            "height": null,
            "justify_content": null,
            "justify_items": null,
            "left": null,
            "margin": null,
            "max_height": null,
            "max_width": null,
            "min_height": null,
            "min_width": null,
            "object_fit": null,
            "object_position": null,
            "order": null,
            "overflow": null,
            "overflow_x": null,
            "overflow_y": null,
            "padding": null,
            "right": null,
            "top": null,
            "visibility": null,
            "width": null
          }
        }
      }
    }
  },
  "nbformat": 4,
  "nbformat_minor": 0
}